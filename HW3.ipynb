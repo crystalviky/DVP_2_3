{
 "cells": [
  {
   "cell_type": "markdown",
   "metadata": {},
   "source": [
    "## Домашнее задание\n",
    "1.Разделить дата сет на трейн и тест в отношение 50:50 70:30 80:20 (с перемешиванием)\n",
    "\n",
    "2.Обучать наши модели на трейне. Предсказывать и замерять метрику R^2 и на трейне и на тесте\n",
    "\n",
    "3.Проверить следующие модели, для каждого разделения: а) sales ~ log_tv + radio б) sales ~ TV + radio в) sales ~ TV + radio + newspaper"
   ]
  },
  {
   "cell_type": "code",
   "execution_count": 10,
   "metadata": {},
   "outputs": [],
   "source": [
    "import pandas as pd\n",
    "import numpy as np\n",
    "import sklearn as skl\n",
    "from sklearn.model_selection import train_test_split\n",
    "import math"
   ]
  },
  {
   "cell_type": "code",
   "execution_count": 3,
   "metadata": {},
   "outputs": [
    {
     "name": "stdout",
     "output_type": "stream",
     "text": [
      "<class 'pandas.core.frame.DataFrame'>\n",
      "RangeIndex: 200 entries, 0 to 199\n",
      "Data columns (total 4 columns):\n",
      "TV           200 non-null float64\n",
      "radio        200 non-null float64\n",
      "newspaper    200 non-null float64\n",
      "sales        200 non-null float64\n",
      "dtypes: float64(4)\n",
      "memory usage: 6.3 KB\n"
     ]
    }
   ],
   "source": [
    "data = pd.read_csv('data/Advertising.csv', usecols=[1,2,3,4])\n",
    "data.info()"
   ]
  },
  {
   "cell_type": "code",
   "execution_count": 11,
   "metadata": {},
   "outputs": [],
   "source": [
    "# Насколько я поняла в пункте 3.а) опечтка: вместо логарифмировнаия нужно сделать воведение в степень 0.4,\n",
    "# так как в этом случае более четко прослеживается линейная зависимомть.\n",
    "\n",
    "data['log_tv'] = data.TV.apply(lambda x: math.pow(x, 0.4))"
   ]
  },
  {
   "cell_type": "code",
   "execution_count": 12,
   "metadata": {},
   "outputs": [
    {
     "data": {
      "text/html": [
       "<div>\n",
       "<style scoped>\n",
       "    .dataframe tbody tr th:only-of-type {\n",
       "        vertical-align: middle;\n",
       "    }\n",
       "\n",
       "    .dataframe tbody tr th {\n",
       "        vertical-align: top;\n",
       "    }\n",
       "\n",
       "    .dataframe thead th {\n",
       "        text-align: right;\n",
       "    }\n",
       "</style>\n",
       "<table border=\"1\" class=\"dataframe\">\n",
       "  <thead>\n",
       "    <tr style=\"text-align: right;\">\n",
       "      <th></th>\n",
       "      <th>TV</th>\n",
       "      <th>radio</th>\n",
       "      <th>newspaper</th>\n",
       "      <th>sales</th>\n",
       "      <th>log_tv</th>\n",
       "    </tr>\n",
       "  </thead>\n",
       "  <tbody>\n",
       "    <tr>\n",
       "      <th>0</th>\n",
       "      <td>230.1</td>\n",
       "      <td>37.8</td>\n",
       "      <td>69.2</td>\n",
       "      <td>22.1</td>\n",
       "      <td>8.805756</td>\n",
       "    </tr>\n",
       "    <tr>\n",
       "      <th>1</th>\n",
       "      <td>44.5</td>\n",
       "      <td>39.3</td>\n",
       "      <td>45.1</td>\n",
       "      <td>10.4</td>\n",
       "      <td>4.563983</td>\n",
       "    </tr>\n",
       "    <tr>\n",
       "      <th>2</th>\n",
       "      <td>17.2</td>\n",
       "      <td>45.9</td>\n",
       "      <td>69.3</td>\n",
       "      <td>9.3</td>\n",
       "      <td>3.120408</td>\n",
       "    </tr>\n",
       "    <tr>\n",
       "      <th>3</th>\n",
       "      <td>151.5</td>\n",
       "      <td>41.3</td>\n",
       "      <td>58.5</td>\n",
       "      <td>18.5</td>\n",
       "      <td>7.450151</td>\n",
       "    </tr>\n",
       "    <tr>\n",
       "      <th>4</th>\n",
       "      <td>180.8</td>\n",
       "      <td>10.8</td>\n",
       "      <td>58.4</td>\n",
       "      <td>12.9</td>\n",
       "      <td>7.996121</td>\n",
       "    </tr>\n",
       "  </tbody>\n",
       "</table>\n",
       "</div>"
      ],
      "text/plain": [
       "      TV  radio  newspaper  sales    log_tv\n",
       "0  230.1   37.8       69.2   22.1  8.805756\n",
       "1   44.5   39.3       45.1   10.4  4.563983\n",
       "2   17.2   45.9       69.3    9.3  3.120408\n",
       "3  151.5   41.3       58.5   18.5  7.450151\n",
       "4  180.8   10.8       58.4   12.9  7.996121"
      ]
     },
     "execution_count": 12,
     "metadata": {},
     "output_type": "execute_result"
    }
   ],
   "source": [
    "data.head()"
   ]
  },
  {
   "cell_type": "markdown",
   "metadata": {},
   "source": [
    "Создадим train и test дата сеты в отношение 50:50"
   ]
  },
  {
   "cell_type": "code",
   "execution_count": 13,
   "metadata": {},
   "outputs": [],
   "source": [
    "data_train, data_test = train_test_split(data, test_size = 0.5, random_state = 42, shuffle = True)"
   ]
  },
  {
   "cell_type": "markdown",
   "metadata": {},
   "source": [
    "Создадим train и test дата сеты в отношение 50:50"
   ]
  },
  {
   "cell_type": "code",
   "execution_count": 14,
   "metadata": {},
   "outputs": [],
   "source": [
    "data_train_2, data_test_2 = train_test_split(data, test_size = 0.3, random_state = 42, shuffle = True)"
   ]
  },
  {
   "cell_type": "code",
   "execution_count": 15,
   "metadata": {},
   "outputs": [
    {
     "data": {
      "text/plain": [
       "140"
      ]
     },
     "execution_count": 15,
     "metadata": {},
     "output_type": "execute_result"
    }
   ],
   "source": [
    "len(data_train_2)"
   ]
  },
  {
   "cell_type": "code",
   "execution_count": 16,
   "metadata": {},
   "outputs": [
    {
     "data": {
      "text/plain": [
       "60"
      ]
     },
     "execution_count": 16,
     "metadata": {},
     "output_type": "execute_result"
    }
   ],
   "source": [
    "len(data_test_2)"
   ]
  },
  {
   "cell_type": "markdown",
   "metadata": {},
   "source": [
    "Создадим train и test дата сеты в отношение 80:20"
   ]
  },
  {
   "cell_type": "code",
   "execution_count": 17,
   "metadata": {},
   "outputs": [],
   "source": [
    "data_train_3, data_test_3 = train_test_split(data, test_size = 0.2, random_state = 45, shuffle = True)"
   ]
  },
  {
   "cell_type": "markdown",
   "metadata": {},
   "source": [
    "2.Обучать наши модели на трейне. Предсказывать и замерять метрику R^2 и на трейне и на тесте\n",
    "\n",
    "3.Проверить следующие модели, для каждого разделения: а) sales ~ log_tv + radio б) sales ~ TV + radio в) sales ~ TV + radio + newspaper"
   ]
  },
  {
   "cell_type": "markdown",
   "metadata": {},
   "source": [
    "### а) sales ~ log_tv + radio "
   ]
  },
  {
   "cell_type": "code",
   "execution_count": 18,
   "metadata": {},
   "outputs": [],
   "source": [
    "import statsmodels.formula.api as smf"
   ]
  },
  {
   "cell_type": "markdown",
   "metadata": {},
   "source": [
    "Проверим на разделение 50:50"
   ]
  },
  {
   "cell_type": "code",
   "execution_count": 24,
   "metadata": {},
   "outputs": [
    {
     "name": "stdout",
     "output_type": "stream",
     "text": [
      "RSS: 200.23499560383377\n",
      "RSE: 1.4367596546375327\n",
      "R^2: 0.9273049082016978\n"
     ]
    }
   ],
   "source": [
    "x_lm = smf.ols('sales ~ log_tv + radio', data_train).fit()\n",
    "rss = np.sum(x_lm.resid ** 2)\n",
    "print(\"RSS:\", rss)\n",
    "print(\"RSE:\", np.sqrt(rss / (data_train.shape[0] - 2 - 1)))\n",
    "print(\"R^2:\", x_lm.rsquared)"
   ]
  },
  {
   "cell_type": "code",
   "execution_count": 46,
   "metadata": {},
   "outputs": [
    {
     "name": "stdout",
     "output_type": "stream",
     "text": [
      "RSS_test: 180.25270578707895\n",
      "TSS_test: 2350.329528371672\n",
      "RSE_test: 1.3631857237341383\n",
      "R^2: 0.9310741259261294\n"
     ]
    }
   ],
   "source": [
    "x_lm_pred = x_lm.predict(data_test[['log_tv', 'radio']])\n",
    "x_lm_test = data_test['sales']\n",
    "RSS_test = np.sum((x_lm_test - x_lm_pred)**2)\n",
    "TSS_test = np.sum((x_lm_test - x_lm_test.mean())**2)\n",
    "RSE_test = np.sqrt(RSS_test / (data_test.shape[0] - 2 - 1))\n",
    "TSS_test = np.sum((x_lm_pr - x_lm_pr.mean())**2)\n",
    "R_2_test = skl.metrics.r2_score(x_lm_test, x_lm_pred)\n",
    "\n",
    "print(\"RSS_test:\", RSS_test)\n",
    "print(\"TSS_test:\", TSS_test)\n",
    "print(\"RSE_test:\", RSE_test)\n",
    "print(\"R^2:\", R_2_test)"
   ]
  },
  {
   "cell_type": "markdown",
   "metadata": {},
   "source": [
    "Проверим на разделение 70:30"
   ]
  },
  {
   "cell_type": "code",
   "execution_count": 49,
   "metadata": {},
   "outputs": [
    {
     "name": "stdout",
     "output_type": "stream",
     "text": [
      "RSS: 256.44355253955246\n",
      "RSE: 1.3681559664248395\n",
      "R^2: 0.9301954868019677\n"
     ]
    }
   ],
   "source": [
    "x_lm = smf.ols('sales ~ log_tv + radio', data_train_2).fit()\n",
    "rss = np.sum(x_lm.resid ** 2)\n",
    "print(\"RSS:\", rss)\n",
    "print(\"RSE:\", np.sqrt(rss / (data_train_2.shape[0] - 2 - 1)))\n",
    "print(\"R^2:\", x_lm.rsquared)"
   ]
  },
  {
   "cell_type": "code",
   "execution_count": 50,
   "metadata": {},
   "outputs": [
    {
     "name": "stdout",
     "output_type": "stream",
     "text": [
      "RSS_test: 119.35728259986283\n",
      "TSS_test: 2350.329528371672\n",
      "RSE_test: 1.4470616483179566\n",
      "R^2: 0.9271446043449547\n"
     ]
    }
   ],
   "source": [
    "x_lm_pred = x_lm.predict(data_test_2[['log_tv', 'radio']])\n",
    "x_lm_test = data_test_2['sales']\n",
    "RSS_test = np.sum((x_lm_test - x_lm_pred)**2)\n",
    "TSS_test = np.sum((x_lm_test - x_lm_test.mean())**2)\n",
    "RSE_test = np.sqrt(RSS_test / (data_test_2.shape[0] - 2 - 1))\n",
    "TSS_test = np.sum((x_lm_pr - x_lm_pr.mean())**2)\n",
    "R_2_test = skl.metrics.r2_score(x_lm_test, x_lm_pred)\n",
    "\n",
    "print(\"RSS_test:\", RSS_test)\n",
    "print(\"TSS_test:\", TSS_test)\n",
    "print(\"RSE_test:\", RSE_test)\n",
    "print(\"R^2:\", R_2_test)"
   ]
  },
  {
   "cell_type": "markdown",
   "metadata": {},
   "source": [
    "Проверим на разделение 80:20"
   ]
  },
  {
   "cell_type": "code",
   "execution_count": 52,
   "metadata": {},
   "outputs": [
    {
     "name": "stdout",
     "output_type": "stream",
     "text": [
      "RSS: 322.20998083238936\n",
      "RSE: 1.432582588035985\n",
      "R^2: 0.9289407967299688\n"
     ]
    }
   ],
   "source": [
    "x_lm = smf.ols('sales ~ log_tv + radio', data_train_3).fit()\n",
    "rss = np.sum(x_lm.resid ** 2)\n",
    "print(\"RSS:\", rss)\n",
    "print(\"RSE:\", np.sqrt(rss / (data_train_3.shape[0] - 2 - 1)))\n",
    "print(\"R^2:\", x_lm.rsquared)"
   ]
  },
  {
   "cell_type": "code",
   "execution_count": 53,
   "metadata": {},
   "outputs": [
    {
     "name": "stdout",
     "output_type": "stream",
     "text": [
      "RSS_test: 51.496248093566884\n",
      "TSS_test: 2350.329528371672\n",
      "RSE_test: 1.1797417043638498\n",
      "R^2: 0.9404295595097784\n"
     ]
    }
   ],
   "source": [
    "x_lm_pred = x_lm.predict(data_test_3[['log_tv', 'radio']])\n",
    "x_lm_test = data_test_3['sales']\n",
    "RSS_test = np.sum((x_lm_test - x_lm_pred)**2)\n",
    "TSS_test = np.sum((x_lm_test - x_lm_test.mean())**2)\n",
    "RSE_test = np.sqrt(RSS_test / (data_test_3.shape[0] - 2 - 1))\n",
    "TSS_test = np.sum((x_lm_pr - x_lm_pr.mean())**2)\n",
    "R_2_test = skl.metrics.r2_score(x_lm_test, x_lm_pred)\n",
    "\n",
    "print(\"RSS_test:\", RSS_test)\n",
    "print(\"TSS_test:\", TSS_test)\n",
    "print(\"RSE_test:\", RSE_test)\n",
    "print(\"R^2:\", R_2_test)"
   ]
  },
  {
   "cell_type": "markdown",
   "metadata": {},
   "source": [
    "### б) sales ~ TV + radio "
   ]
  },
  {
   "cell_type": "markdown",
   "metadata": {},
   "source": [
    "Проверим на разделение 50:50"
   ]
  },
  {
   "cell_type": "code",
   "execution_count": 54,
   "metadata": {},
   "outputs": [
    {
     "name": "stdout",
     "output_type": "stream",
     "text": [
      "RSS: 269.79672077541716\n",
      "RSE: 1.667755825212454\n",
      "R^2: 0.9020506014720118\n"
     ]
    }
   ],
   "source": [
    "x_lm = smf.ols('sales ~ TV + radio', data_train).fit()\n",
    "rss = np.sum(x_lm.resid ** 2)\n",
    "print(\"RSS:\", rss)\n",
    "print(\"RSE:\", np.sqrt(rss / (data_train.shape[0] - 2 - 1)))\n",
    "print(\"R^2:\", x_lm.rsquared)"
   ]
  },
  {
   "cell_type": "code",
   "execution_count": 56,
   "metadata": {},
   "outputs": [
    {
     "name": "stdout",
     "output_type": "stream",
     "text": [
      "RSS_test: 306.90663871598946\n",
      "TSS_test: 2350.329528371672\n",
      "RSE_test: 1.7787596707099644\n",
      "R^2: 0.8826436017134698\n"
     ]
    }
   ],
   "source": [
    "x_lm_pred = x_lm.predict(data_test[['TV', 'radio']])\n",
    "x_lm_test = data_test['sales']\n",
    "RSS_test = np.sum((x_lm_test - x_lm_pred)**2)\n",
    "TSS_test = np.sum((x_lm_test - x_lm_test.mean())**2)\n",
    "RSE_test = np.sqrt(RSS_test / (data_test.shape[0] - 2 - 1))\n",
    "TSS_test = np.sum((x_lm_pr - x_lm_pr.mean())**2)\n",
    "R_2_test = skl.metrics.r2_score(x_lm_test, x_lm_pred)\n",
    "\n",
    "print(\"RSS_test:\", RSS_test)\n",
    "print(\"TSS_test:\", TSS_test)\n",
    "print(\"RSE_test:\", RSE_test)\n",
    "print(\"R^2:\", R_2_test)"
   ]
  },
  {
   "cell_type": "markdown",
   "metadata": {},
   "source": [
    "Проверим на разделение 70:30"
   ]
  },
  {
   "cell_type": "code",
   "execution_count": 59,
   "metadata": {},
   "outputs": [
    {
     "name": "stdout",
     "output_type": "stream",
     "text": [
      "RSS: 349.6011203718844\n",
      "RSE: 1.5974457722925104\n",
      "R^2: 0.9048377867980044\n"
     ]
    }
   ],
   "source": [
    "x_lm = smf.ols('sales ~ TV + radio', data_train_2).fit()\n",
    "rss = np.sum(x_lm.resid ** 2)\n",
    "print(\"RSS:\", rss)\n",
    "print(\"RSE:\", np.sqrt(rss / (data_train_2.shape[0] - 2 - 1)))\n",
    "print(\"R^2:\", x_lm.rsquared)"
   ]
  },
  {
   "cell_type": "code",
   "execution_count": 60,
   "metadata": {},
   "outputs": [
    {
     "name": "stdout",
     "output_type": "stream",
     "text": [
      "RSS_test: 220.1428232718409\n",
      "TSS_test: 2350.329528371672\n",
      "RSE_test: 1.9652365746247507\n",
      "R^2: 0.8656253548947074\n"
     ]
    }
   ],
   "source": [
    "x_lm_pred = x_lm.predict(data_test_2[['TV', 'radio']])\n",
    "x_lm_test = data_test_2['sales']\n",
    "RSS_test = np.sum((x_lm_test - x_lm_pred)**2)\n",
    "TSS_test = np.sum((x_lm_test - x_lm_test.mean())**2)\n",
    "RSE_test = np.sqrt(RSS_test / (data_test_2.shape[0] - 2 - 1))\n",
    "TSS_test = np.sum((x_lm_pr - x_lm_pr.mean())**2)\n",
    "R_2_test = skl.metrics.r2_score(x_lm_test, x_lm_pred)\n",
    "\n",
    "print(\"RSS_test:\", RSS_test)\n",
    "print(\"TSS_test:\", TSS_test)\n",
    "print(\"RSE_test:\", RSE_test)\n",
    "print(\"R^2:\", R_2_test)"
   ]
  },
  {
   "cell_type": "markdown",
   "metadata": {},
   "source": [
    "Проверим на разделение 80:20"
   ]
  },
  {
   "cell_type": "code",
   "execution_count": 66,
   "metadata": {},
   "outputs": [
    {
     "name": "stdout",
     "output_type": "stream",
     "text": [
      "RSS: 473.4487903601491\n",
      "RSE: 1.736547549256563\n",
      "R^2: 0.8955870524394062\n"
     ]
    }
   ],
   "source": [
    "x_lm = smf.ols('sales ~ TV + radio', data_train_3).fit()\n",
    "rss = np.sum(x_lm.resid ** 2)\n",
    "print(\"RSS:\", rss)\n",
    "print(\"RSE:\", np.sqrt(rss / (data_train_3.shape[0] - 2 - 1)))\n",
    "print(\"R^2:\", x_lm.rsquared)"
   ]
  },
  {
   "cell_type": "code",
   "execution_count": 67,
   "metadata": {},
   "outputs": [
    {
     "name": "stdout",
     "output_type": "stream",
     "text": [
      "RSS_test: 87.4866983146435\n",
      "TSS_test: 2350.329528371672\n",
      "RSE_test: 1.537694820130194\n",
      "R^2: 0.8987960997436335\n"
     ]
    }
   ],
   "source": [
    "x_lm_pred = x_lm.predict(data_test_3[['TV', 'radio']])\n",
    "x_lm_test = data_test_3['sales']\n",
    "RSS_test = np.sum((x_lm_test - x_lm_pred)**2)\n",
    "TSS_test = np.sum((x_lm_test - x_lm_test.mean())**2)\n",
    "RSE_test = np.sqrt(RSS_test / (data_test_3.shape[0] - 2 - 1))\n",
    "TSS_test = np.sum((x_lm_pr - x_lm_pr.mean())**2)\n",
    "R_2_test = skl.metrics.r2_score(x_lm_test, x_lm_pred)\n",
    "\n",
    "print(\"RSS_test:\", RSS_test)\n",
    "print(\"TSS_test:\", TSS_test)\n",
    "print(\"RSE_test:\", RSE_test)\n",
    "print(\"R^2:\", R_2_test)"
   ]
  },
  {
   "cell_type": "markdown",
   "metadata": {},
   "source": [
    "### в) sales ~ TV + radio + newspaper"
   ]
  },
  {
   "cell_type": "markdown",
   "metadata": {},
   "source": [
    "Проверим на разделение 50:50"
   ]
  },
  {
   "cell_type": "code",
   "execution_count": 57,
   "metadata": {},
   "outputs": [
    {
     "name": "stdout",
     "output_type": "stream",
     "text": [
      "RSS: 263.7072834762901\n",
      "RSE: 1.657392792775656\n",
      "R^2: 0.9042613648908893\n"
     ]
    }
   ],
   "source": [
    "x_lm = smf.ols('sales ~ TV + radio + newspaper', data_train).fit()\n",
    "rss = np.sum(x_lm.resid ** 2)\n",
    "print(\"RSS:\", rss)\n",
    "print(\"RSE:\", np.sqrt(rss / (data_train.shape[0] - 3 - 1)))\n",
    "print(\"R^2:\", x_lm.rsquared)"
   ]
  },
  {
   "cell_type": "code",
   "execution_count": 58,
   "metadata": {},
   "outputs": [
    {
     "name": "stdout",
     "output_type": "stream",
     "text": [
      "RSS_test: 334.47866377352887\n",
      "TSS_test: 2350.329528371672\n",
      "RSE_test: 1.866588531959019\n",
      "R^2: 0.8721004816045134\n"
     ]
    }
   ],
   "source": [
    "x_lm_pred = x_lm.predict(data_test[['TV', 'radio','newspaper']])\n",
    "x_lm_test = data_test['sales']\n",
    "RSS_test = np.sum((x_lm_test - x_lm_pred)**2)\n",
    "TSS_test = np.sum((x_lm_test - x_lm_test.mean())**2)\n",
    "RSE_test = np.sqrt(RSS_test / (data_test.shape[0] - 3 - 1))\n",
    "TSS_test = np.sum((x_lm_pr - x_lm_pr.mean())**2)\n",
    "R_2_test = skl.metrics.r2_score(x_lm_test, x_lm_pred)\n",
    "\n",
    "print(\"RSS_test:\", RSS_test)\n",
    "print(\"TSS_test:\", TSS_test)\n",
    "print(\"RSE_test:\", RSE_test)\n",
    "print(\"R^2:\", R_2_test)"
   ]
  },
  {
   "cell_type": "markdown",
   "metadata": {},
   "source": [
    "Проверим на разделение 70:30"
   ]
  },
  {
   "cell_type": "code",
   "execution_count": 61,
   "metadata": {},
   "outputs": [
    {
     "name": "stdout",
     "output_type": "stream",
     "text": [
      "RSS: 347.1097250468101\n",
      "RSE: 1.5975848616114496\n",
      "R^2: 0.9055159502227753\n"
     ]
    }
   ],
   "source": [
    "x_lm = smf.ols('sales ~ TV + radio + newspaper', data_train_2).fit()\n",
    "rss = np.sum(x_lm.resid ** 2)\n",
    "print(\"RSS:\", rss)\n",
    "print(\"RSE:\", np.sqrt(rss / (data_train_2.shape[0] - 3 - 1)))\n",
    "print(\"R^2:\", x_lm.rsquared)"
   ]
  },
  {
   "cell_type": "code",
   "execution_count": 62,
   "metadata": {},
   "outputs": [
    {
     "name": "stdout",
     "output_type": "stream",
     "text": [
      "RSS_test: 227.807834202913\n",
      "TSS_test: 2350.329528371672\n",
      "RSE_test: 2.0169276237232046\n",
      "R^2: 0.8609466508230369\n"
     ]
    }
   ],
   "source": [
    "x_lm_pred = x_lm.predict(data_test_2[['TV', 'radio','newspaper']])\n",
    "x_lm_test = data_test_2['sales']\n",
    "RSS_test = np.sum((x_lm_test - x_lm_pred)**2)\n",
    "TSS_test = np.sum((x_lm_test - x_lm_test.mean())**2)\n",
    "RSE_test = np.sqrt(RSS_test / (data_test_2.shape[0] - 3 - 1))\n",
    "TSS_test = np.sum((x_lm_pr - x_lm_pr.mean())**2)\n",
    "R_2_test = skl.metrics.r2_score(x_lm_test, x_lm_pred)\n",
    "\n",
    "print(\"RSS_test:\", RSS_test)\n",
    "print(\"TSS_test:\", TSS_test)\n",
    "print(\"RSE_test:\", RSE_test)\n",
    "print(\"R^2:\", R_2_test)"
   ]
  },
  {
   "cell_type": "markdown",
   "metadata": {},
   "source": [
    "Проверим на разделение 80:20"
   ]
  },
  {
   "cell_type": "code",
   "execution_count": 63,
   "metadata": {},
   "outputs": [
    {
     "name": "stdout",
     "output_type": "stream",
     "text": [
      "RSS: 471.81371242575676\n",
      "RSE: 1.7390936934288739\n",
      "R^2: 0.895947647524022\n"
     ]
    }
   ],
   "source": [
    "x_lm = smf.ols('sales ~ TV + radio + newspaper', data_train_3).fit()\n",
    "rss = np.sum(x_lm.resid ** 2)\n",
    "print(\"RSS:\", rss)\n",
    "print(\"RSE:\", np.sqrt(rss / (data_train_3.shape[0] - 3 - 1)))\n",
    "print(\"R^2:\", x_lm.rsquared)"
   ]
  },
  {
   "cell_type": "code",
   "execution_count": 65,
   "metadata": {},
   "outputs": [
    {
     "name": "stdout",
     "output_type": "stream",
     "text": [
      "RSS_test: 90.2597698912376\n",
      "TSS_test: 2350.329528371672\n",
      "RSE_test: 1.5834190318144328\n",
      "R^2: 0.895588233123361\n"
     ]
    }
   ],
   "source": [
    "x_lm_pred = x_lm.predict(data_test_3[['TV', 'radio','newspaper']])\n",
    "x_lm_test = data_test_3['sales']\n",
    "RSS_test = np.sum((x_lm_test - x_lm_pred)**2)\n",
    "TSS_test = np.sum((x_lm_test - x_lm_test.mean())**2)\n",
    "RSE_test = np.sqrt(RSS_test / (data_test_3.shape[0] - 3 - 1))\n",
    "TSS_test = np.sum((x_lm_pr - x_lm_pr.mean())**2)\n",
    "R_2_test = skl.metrics.r2_score(x_lm_test, x_lm_pred)\n",
    "\n",
    "print(\"RSS_test:\", RSS_test)\n",
    "print(\"TSS_test:\", TSS_test)\n",
    "print(\"RSE_test:\", RSE_test)\n",
    "print(\"R^2:\", R_2_test)"
   ]
  },
  {
   "cell_type": "code",
   "execution_count": null,
   "metadata": {},
   "outputs": [],
   "source": []
  }
 ],
 "metadata": {
  "kernelspec": {
   "display_name": "Python 3",
   "language": "python",
   "name": "python3"
  },
  "language_info": {
   "codemirror_mode": {
    "name": "ipython",
    "version": 3
   },
   "file_extension": ".py",
   "mimetype": "text/x-python",
   "name": "python",
   "nbconvert_exporter": "python",
   "pygments_lexer": "ipython3",
   "version": "3.7.1"
  }
 },
 "nbformat": 4,
 "nbformat_minor": 2
}
